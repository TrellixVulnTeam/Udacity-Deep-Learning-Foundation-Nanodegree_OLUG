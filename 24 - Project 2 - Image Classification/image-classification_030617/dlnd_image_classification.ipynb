{
 "cells": [
  {
   "cell_type": "markdown",
   "metadata": {
    "collapsed": true,
    "deletable": true,
    "editable": true
   },
   "source": [
    "# Image Classification\n",
    "In this project, you'll classify images from the [CIFAR-10 dataset](https://www.cs.toronto.edu/~kriz/cifar.html).  The dataset consists of airplanes, dogs, cats, and other objects. You'll preprocess the images, then train a convolutional neural network on all the samples. The images need to be normalized and the labels need to be one-hot encoded.  You'll get to apply what you learned and build a convolutional, max pooling, dropout, and fully connected layers.  At the end, you'll get to see your neural network's predictions on the sample images.\n",
    "## Get the Data\n",
    "Run the following cell to download the [CIFAR-10 dataset for python](https://www.cs.toronto.edu/~kriz/cifar-10-python.tar.gz)."
   ]
  },
  {
   "cell_type": "code",
   "execution_count": 61,
   "metadata": {
    "collapsed": false,
    "deletable": true,
    "editable": true
   },
   "outputs": [
    {
     "name": "stdout",
     "output_type": "stream",
     "text": [
      "All files found!\n"
     ]
    }
   ],
   "source": [
    "\"\"\"\n",
    "DON'T MODIFY ANYTHING IN THIS CELL THAT IS BELOW THIS LINE\n",
    "\"\"\"\n",
    "from urllib.request import urlretrieve\n",
    "from os.path import isfile, isdir\n",
    "from tqdm import tqdm\n",
    "import problem_unittests as tests\n",
    "import tarfile\n",
    "\n",
    "cifar10_dataset_folder_path = 'cifar-10-batches-py'\n",
    "\n",
    "class DLProgress(tqdm):\n",
    "    last_block = 0\n",
    "\n",
    "    def hook(self, block_num=1, block_size=1, total_size=None):\n",
    "        self.total = total_size\n",
    "        self.update((block_num - self.last_block) * block_size)\n",
    "        self.last_block = block_num\n",
    "\n",
    "if not isfile('cifar-10-python.tar.gz'):\n",
    "    with DLProgress(unit='B', unit_scale=True, miniters=1, desc='CIFAR-10 Dataset') as pbar:\n",
    "        urlretrieve(\n",
    "            'https://www.cs.toronto.edu/~kriz/cifar-10-python.tar.gz',\n",
    "            'cifar-10-python.tar.gz',\n",
    "            pbar.hook)\n",
    "\n",
    "if not isdir(cifar10_dataset_folder_path):\n",
    "    with tarfile.open('cifar-10-python.tar.gz') as tar:\n",
    "        tar.extractall()\n",
    "        tar.close()\n",
    "\n",
    "\n",
    "tests.test_folder_path(cifar10_dataset_folder_path)"
   ]
  },
  {
   "cell_type": "markdown",
   "metadata": {
    "deletable": true,
    "editable": true
   },
   "source": [
    "## Explore the Data\n",
    "The dataset is broken into batches to prevent your machine from running out of memory.  The CIFAR-10 dataset consists of 5 batches, named `data_batch_1`, `data_batch_2`, etc.. Each batch contains the labels and images that are one of the following:\n",
    "* airplane\n",
    "* automobile\n",
    "* bird\n",
    "* cat\n",
    "* deer\n",
    "* dog\n",
    "* frog\n",
    "* horse\n",
    "* ship\n",
    "* truck\n",
    "\n",
    "Understanding a dataset is part of making predictions on the data.  Play around with the code cell below by changing the `batch_id` and `sample_id`. The `batch_id` is the id for a batch (1-5). The `sample_id` is the id for a image and label pair in the batch.\n",
    "\n",
    "Ask yourself \"What are all possible labels?\", \"What is the range of values for the image data?\", \"Are the labels in order or random?\".  Answers to questions like these will help you preprocess the data and end up with better predictions."
   ]
  },
  {
   "cell_type": "code",
   "execution_count": 62,
   "metadata": {
    "collapsed": false,
    "deletable": true,
    "editable": true
   },
   "outputs": [
    {
     "name": "stdout",
     "output_type": "stream",
     "text": [
      "\n",
      "Stats of batch 5:\n",
      "Samples: 10000\n",
      "Label Counts: {0: 1014, 1: 1014, 2: 952, 3: 1016, 4: 997, 5: 1025, 6: 980, 7: 977, 8: 1003, 9: 1022}\n",
      "First 20 Labels: [1, 8, 5, 1, 5, 7, 4, 3, 8, 2, 7, 2, 0, 1, 5, 9, 6, 2, 0, 8]\n",
      "\n",
      "Example of Image 9999:\n",
      "Image - Min Value: 4 Max Value: 255\n",
      "Image - Shape: (32, 32, 3)\n",
      "Label - Label Id: 1 Name: automobile\n"
     ]
    },
    {
     "data": {
      "image/png": "[encoded data removed]",
      "text/plain": [
       "<matplotlib.figure.Figure at 0x7fcd6c0f93c8>"
      ]
     },
     "metadata": {
      "image/png": {
       "height": 250,
       "width": 253
      }
     },
     "output_type": "display_data"
    }
   ],
   "source": [
    "%matplotlib inline\n",
    "%config InlineBackend.figure_format = 'retina'\n",
    "\n",
    "import helper\n",
    "import numpy as np\n",
    "\n",
    "# Explore the dataset\n",
    "batch_id = 5\n",
    "sample_id = 9999\n",
    "helper.display_stats(cifar10_dataset_folder_path, batch_id, sample_id)"
   ]
  },
  {
   "cell_type": "markdown",
   "metadata": {
    "deletable": true,
    "editable": true
   },
   "source": [
    "## Implement Preprocess Functions\n",
    "### Normalize\n",
    "In the cell below, implement the `normalize` function to take in image data, `x`, and return it as a normalized Numpy array. The values should be in the range of 0 to 1, inclusive.  The return object should be the same shape as `x`."
   ]
  },
  {
   "cell_type": "code",
   "execution_count": 63,
   "metadata": {
    "collapsed": false,
    "deletable": true,
    "editable": true
   },
   "outputs": [
    {
     "name": "stdout",
     "output_type": "stream",
     "text": [
      "Tests Passed\n"
     ]
    }
   ],
   "source": [
    "def normalize(x):\n",
    "    \"\"\"\n",
    "    Normalize a list of sample image data in the range of 0 to 1\n",
    "    : x: List of image data.  The image shape is (32, 32, 3)\n",
    "    : return: Numpy array of normalize data\n",
    "    \"\"\"\n",
    "    # TODO: Implement Function\n",
    "    x = ( x - x.min() ) / ( x.max() - x.min() )\n",
    "    return x\n",
    "\n",
    "\n",
    "\"\"\"\n",
    "DON'T MODIFY ANYTHING IN THIS CELL THAT IS BELOW THIS LINE\n",
    "\"\"\"\n",
    "tests.test_normalize(normalize)"
   ]
  },
  {
   "cell_type": "markdown",
   "metadata": {
    "deletable": true,
    "editable": true
   },
   "source": [
    "### One-hot encode\n",
    "Just like the previous code cell, you'll be implementing a function for preprocessing.  This time, you'll implement the `one_hot_encode` function. The input, `x`, are a list of labels.  Implement the function to return the list of labels as One-Hot encoded Numpy array.  The possible values for labels are 0 to 9. The one-hot encoding function should return the same encoding for each value between each call to `one_hot_encode`.  Make sure to save the map of encodings outside the function.\n",
    "\n",
    "Hint: Don't reinvent the wheel."
   ]
  },
  {
   "cell_type": "code",
   "execution_count": 64,
   "metadata": {
    "collapsed": false,
    "deletable": true,
    "editable": true
   },
   "outputs": [
    {
     "name": "stdout",
     "output_type": "stream",
     "text": [
      "Tests Passed\n"
     ]
    }
   ],
   "source": [
    "# The instructios say I  need to save mappings OUTSIDE of the function, like so:\n",
    "listOfEncodings = [0,1,2,3,4,5,6,7,8,9]\n",
    "# However, it seems possible to implement the one_hot_encode function that does NOT rely on this external mapping.\n",
    "# See alternative lines commented out below.\n",
    "\n",
    "# The implementation below is very most probably inefficient. Probably wasting GPU credits.\n",
    "# This might be what was meant by \"reinventing the wheel\" in the hint?\n",
    "# There is probably a more efficient \"vectorized\" way to do this in Python.\n",
    "# There is a TensorFlow function tf.one_hot, but using it gives an error (AssertionError: Not Numpy Object)!\n",
    "\n",
    "def one_hot_encode(x):\n",
    "    \"\"\"\n",
    "    One hot encode a list of sample labels. Return a one-hot encoded vector for each label.\n",
    "    : x: List of sample Labels\n",
    "    : return: Numpy array of one-hot encoded labels\n",
    "    \"\"\"\n",
    "    # TODO: Implement Function\n",
    "    n = len(x)\n",
    "    one_hot = np.ndarray((n,10),dtype=int)\n",
    "    #return tf.one_hot(x,depth=1,axis=-1) # AssertionError: Not Numpy Object\n",
    "    \n",
    "    #for i in range(10):\n",
    "    #    one_hot[:,i] = ( x == listOfEncodings[i] ) # AssertionError: Encodings returned different results for the same numbers.\n",
    "\n",
    "    # There is probably a more efficient way to do this...\n",
    "    for i in range(n):\n",
    "        for j in range(10):\n",
    "            #if ( x[i] == j ): # Alternative Line\n",
    "            if ( x[i] == listOfEncodings[j] ):\n",
    "                one_hot[i][j] = 1\n",
    "            else:\n",
    "                one_hot[i][j] = 0\n",
    "            #one_hot[i][j] = ( x[i] == j ).astype(int) # Alternative Line\n",
    "            #one_hot[i][j] = ( x[i] == listOfEncodings[j] ).astype(int)\n",
    "    return one_hot\n",
    "\n",
    "\n",
    "\"\"\"\n",
    "DON'T MODIFY ANYTHING IN THIS CELL THAT IS BELOW THIS LINE\n",
    "\"\"\"\n",
    "tests.test_one_hot_encode(one_hot_encode)"
   ]
  },
  {
   "cell_type": "markdown",
   "metadata": {
    "deletable": true,
    "editable": true
   },
   "source": [
    "### Randomize Data\n",
    "As you saw from exploring the data above, the order of the samples are randomized.  It doesn't hurt to randomize it again, but you don't need to for this dataset."
   ]
  },
  {
   "cell_type": "markdown",
   "metadata": {
    "deletable": true,
    "editable": true
   },
   "source": [
    "## Preprocess all the data and save it\n",
    "Running the code cell below will preprocess all the CIFAR-10 data and save it to file. The code below also uses 10% of the training data for validation."
   ]
  },
  {
   "cell_type": "code",
   "execution_count": 142,
   "metadata": {
    "collapsed": false,
    "deletable": true,
    "editable": true
   },
   "outputs": [],
   "source": [
    "\"\"\"\n",
    "DON'T MODIFY ANYTHING IN THIS CELL\n",
    "\"\"\"\n",
    "# Preprocess Training, Validation, and Testing Data\n",
    "helper.preprocess_and_save_data(cifar10_dataset_folder_path, normalize, one_hot_encode)"
   ]
  },
  {
   "cell_type": "markdown",
   "metadata": {
    "deletable": true,
    "editable": true
   },
   "source": [
    "# Check Point\n",
    "This is your first checkpoint.  If you ever decide to come back to this notebook or have to restart the notebook, you can start from here.  The preprocessed data has been saved to disk."
   ]
  },
  {
   "cell_type": "code",
   "execution_count": 143,
   "metadata": {
    "collapsed": true,
    "deletable": true,
    "editable": true
   },
   "outputs": [],
   "source": [
    "\"\"\"\n",
    "DON'T MODIFY ANYTHING IN THIS CELL\n",
    "\"\"\"\n",
    "import pickle\n",
    "import problem_unittests as tests\n",
    "import helper\n",
    "\n",
    "# Load the Preprocessed Validation data\n",
    "valid_features, valid_labels = pickle.load(open('preprocess_validation.p', mode='rb'))"
   ]
  },
  {
   "cell_type": "markdown",
   "metadata": {
    "deletable": true,
    "editable": true
   },
   "source": [
    "## Build the network\n",
    "For the neural network, you'll build each layer into a function.  Most of the code you've seen has been outside of functions. To test your code more thoroughly, we require that you put each layer in a function.  This allows us to give you better feedback and test for simple mistakes using our unittests before you submit your project.\n",
    "\n",
    ">**Note:** If you're finding it hard to dedicate enough time for this course each week, we've provided a small shortcut to this part of the project. In the next couple of problems, you'll have the option to use classes from the [TensorFlow Layers](https://www.tensorflow.org/api_docs/python/tf/layers) or [TensorFlow Layers (contrib)](https://www.tensorflow.org/api_guides/python/contrib.layers) packages to build each layer, except the layers you build in the \"Convolutional and Max Pooling Layer\" section.  TF Layers is similar to Keras's and TFLearn's abstraction to layers, so it's easy to pickup.\n",
    "\n",
    ">However, if you would like to get the most out of this course, try to solve all the problems _without_ using anything from the TF Layers packages. You **can** still use classes from other packages that happen to have the same name as ones you find in TF Layers! For example, instead of using the TF Layers version of the `conv2d` class, [tf.layers.conv2d](https://www.tensorflow.org/api_docs/python/tf/layers/conv2d), you would want to use the TF Neural Network version of `conv2d`, [tf.nn.conv2d](https://www.tensorflow.org/api_docs/python/tf/nn/conv2d). \n",
    "\n",
    "Let's begin!\n",
    "\n",
    "### Input\n",
    "The neural network needs to read the image data, one-hot encoded labels, and dropout keep probability. Implement the following functions\n",
    "* Implement `neural_net_image_input`\n",
    " * Return a [TF Placeholder](https://www.tensorflow.org/api_docs/python/tf/placeholder)\n",
    " * Set the shape using `image_shape` with batch size set to `None`.\n",
    " * Name the TensorFlow placeholder \"x\" using the TensorFlow `name` parameter in the [TF Placeholder](https://www.tensorflow.org/api_docs/python/tf/placeholder).\n",
    "* Implement `neural_net_label_input`\n",
    " * Return a [TF Placeholder](https://www.tensorflow.org/api_docs/python/tf/placeholder)\n",
    " * Set the shape using `n_classes` with batch size set to `None`.\n",
    " * Name the TensorFlow placeholder \"y\" using the TensorFlow `name` parameter in the [TF Placeholder](https://www.tensorflow.org/api_docs/python/tf/placeholder).\n",
    "* Implement `neural_net_keep_prob_input`\n",
    " * Return a [TF Placeholder](https://www.tensorflow.org/api_docs/python/tf/placeholder) for dropout keep probability.\n",
    " * Name the TensorFlow placeholder \"keep_prob\" using the TensorFlow `name` parameter in the [TF Placeholder](https://www.tensorflow.org/api_docs/python/tf/placeholder).\n",
    "\n",
    "These names will be used at the end of the project to load your saved model.\n",
    "\n",
    "Note: `None` for shapes in TensorFlow allow for a dynamic size."
   ]
  },
  {
   "cell_type": "code",
   "execution_count": 144,
   "metadata": {
    "collapsed": false,
    "deletable": true,
    "editable": true
   },
   "outputs": [
    {
     "name": "stdout",
     "output_type": "stream",
     "text": [
      "Image Input Tests Passed.\n",
      "Label Input Tests Passed.\n",
      "Keep Prob Tests Passed.\n"
     ]
    }
   ],
   "source": [
    "import tensorflow as tf\n",
    "\n",
    "def neural_net_image_input(image_shape):\n",
    "    \"\"\"\n",
    "    Return a Tensor for a bach of image input\n",
    "    : image_shape: Shape of the images\n",
    "    : return: Tensor for image input.\n",
    "    \"\"\"\n",
    "    # TODO: Implement Function\n",
    "    return tf.placeholder(dtype=tf.float32, shape=[None,image_shape[0],image_shape[1],image_shape[2]], name=\"x\")\n",
    "\n",
    "\n",
    "def neural_net_label_input(n_classes):\n",
    "    \"\"\"\n",
    "    Return a Tensor for a batch of label input\n",
    "    : n_classes: Number of classes\n",
    "    : return: Tensor for label input.\n",
    "    \"\"\"\n",
    "    # TODO: Implement Function\n",
    "    return tf.placeholder(dtype=tf.float32, shape=[None,n_classes], name=\"y\")\n",
    "\n",
    "\n",
    "def neural_net_keep_prob_input():\n",
    "    \"\"\"\n",
    "    Return a Tensor for keep probability\n",
    "    : return: Tensor for keep probability.\n",
    "    \"\"\"\n",
    "    # TODO: Implement Function\n",
    "    return tf.placeholder(dtype=tf.float32, name=\"keep_prob\")\n",
    "\n",
    "\n",
    "\"\"\"\n",
    "DON'T MODIFY ANYTHING IN THIS CELL THAT IS BELOW THIS LINE\n",
    "\"\"\"\n",
    "tf.reset_default_graph()\n",
    "tests.test_nn_image_inputs(neural_net_image_input)\n",
    "tests.test_nn_label_inputs(neural_net_label_input)\n",
    "tests.test_nn_keep_prob_inputs(neural_net_keep_prob_input)"
   ]
  },
  {
   "cell_type": "markdown",
   "metadata": {
    "deletable": true,
    "editable": true
   },
   "source": [
    "### Convolution and Max Pooling Layer\n",
    "Convolution layers have a lot of success with images. For this code cell, you should implement the function `conv2d_maxpool` to apply convolution then max pooling:\n",
    "* Create the weight and bias using `conv_ksize`, `conv_num_outputs` and the shape of `x_tensor`.\n",
    "* Apply a convolution to `x_tensor` using weight and `conv_strides`.\n",
    " * We recommend you use same padding, but you're welcome to use any padding.\n",
    "* Add bias\n",
    "* Add a nonlinear activation to the convolution.\n",
    "* Apply Max Pooling using `pool_ksize` and `pool_strides`.\n",
    " * We recommend you use same padding, but you're welcome to use any padding.\n",
    "\n",
    "**Note:** You **can't** use [TensorFlow Layers](https://www.tensorflow.org/api_docs/python/tf/layers) or [TensorFlow Layers (contrib)](https://www.tensorflow.org/api_guides/python/contrib.layers) for **this** layer, but you can still use TensorFlow's [Neural Network](https://www.tensorflow.org/api_docs/python/tf/nn) package. You may still use the shortcut option for all the **other** layers."
   ]
  },
  {
   "cell_type": "code",
   "execution_count": 145,
   "metadata": {
    "collapsed": false,
    "deletable": true,
    "editable": true
   },
   "outputs": [
    {
     "name": "stdout",
     "output_type": "stream",
     "text": [
      "Tests Passed\n"
     ]
    }
   ],
   "source": [
    "def conv2d_maxpool(x_tensor, conv_num_outputs, conv_ksize, conv_strides, pool_ksize, pool_strides):\n",
    "    \"\"\"\n",
    "    Apply convolution then max pooling to x_tensor\n",
    "    :param x_tensor: TensorFlow Tensor\n",
    "    :param conv_num_outputs: Number of outputs for the convolutional layer\n",
    "    :param conv_ksize: kernal size 2-D Tuple for the convolutional layer\n",
    "    :param conv_strides: Stride 2-D Tuple for convolution\n",
    "    :param pool_ksize: kernal size 2-D Tuple for pool\n",
    "    :param pool_strides: Stride 2-D Tuple for pool\n",
    "    : return: A tensor that represents convolution and max pooling of x_tensor\n",
    "    \"\"\"\n",
    "    # TODO: Implement Function\n",
    "    W           = tf.Variable(tf.random_normal([conv_ksize[0],conv_ksize[1],x_tensor.get_shape().as_list()[3],conv_num_outputs],0,0.1))\n",
    "    b           = tf.Variable(tf.random_normal([conv_num_outputs],0,0.1))\n",
    "    conv_output = tf.nn.conv2d(x_tensor, W, strides=[1,conv_strides[0],conv_strides[1],1], padding='SAME')\n",
    "    add_output  = tf.nn.bias_add(conv_output, b)\n",
    "    relu_out    = tf.nn.relu(add_output) # Add a nonlinear activation (such as sigmoid or ReLU) following adding the bias.\n",
    "    pool_output = tf.nn.max_pool(relu_out, ksize=[1,pool_ksize[0],pool_ksize[1],1], strides=[1,pool_strides[0],pool_strides[1],1], padding='SAME')\n",
    "    return pool_output \n",
    "\n",
    "\n",
    "\"\"\"\n",
    "DON'T MODIFY ANYTHING IN THIS CELL THAT IS BELOW THIS LINE\n",
    "\"\"\"\n",
    "tests.test_con_pool(conv2d_maxpool)"
   ]
  },
  {
   "cell_type": "markdown",
   "metadata": {
    "deletable": true,
    "editable": true
   },
   "source": [
    "### Flatten Layer\n",
    "Implement the `flatten` function to change the dimension of `x_tensor` from a 4-D tensor to a 2-D tensor.  The output should be the shape (*Batch Size*, *Flattened Image Size*). Shortcut option: you can use classes from the [TensorFlow Layers](https://www.tensorflow.org/api_docs/python/tf/layers) or [TensorFlow Layers (contrib)](https://www.tensorflow.org/api_guides/python/contrib.layers) packages for this layer. For more of a challenge, only use other TensorFlow packages."
   ]
  },
  {
   "cell_type": "code",
   "execution_count": 146,
   "metadata": {
    "collapsed": false,
    "deletable": true,
    "editable": true
   },
   "outputs": [
    {
     "name": "stdout",
     "output_type": "stream",
     "text": [
      "Tests Passed\n"
     ]
    }
   ],
   "source": [
    "def flatten(x_tensor):\n",
    "    \"\"\"\n",
    "    Flatten x_tensor to (Batch Size, Flattened Image Size)\n",
    "    : x_tensor: A tensor of size (Batch Size, ...), where ... are the image dimensions.\n",
    "    : return: A tensor of size (Batch Size, Flattened Image Size).\n",
    "    \"\"\"\n",
    "    # TODO: Implement Function\n",
    "    batch_size = x_tensor.get_shape().as_list()[0]\n",
    "    flat_size  = x_tensor.get_shape().as_list()[1] * x_tensor.get_shape().as_list()[2] * x_tensor.get_shape().as_list()[3]\n",
    "    if ( batch_size == None ):\n",
    "        return tf.reshape(x_tensor, [-1, flat_size])\n",
    "    else:\n",
    "        return tf.reshape(x_tensor, [batch_size, flat_size])\n",
    "\n",
    "\n",
    "\"\"\"\n",
    "DON'T MODIFY ANYTHING IN THIS CELL THAT IS BELOW THIS LINE\n",
    "\"\"\"\n",
    "tests.test_flatten(flatten)"
   ]
  },
  {
   "cell_type": "markdown",
   "metadata": {
    "deletable": true,
    "editable": true
   },
   "source": [
    "### Fully-Connected Layer\n",
    "Implement the `fully_conn` function to apply a fully connected layer to `x_tensor` with the shape (*Batch Size*, *num_outputs*). Shortcut option: you can use classes from the [TensorFlow Layers](https://www.tensorflow.org/api_docs/python/tf/layers) or [TensorFlow Layers (contrib)](https://www.tensorflow.org/api_guides/python/contrib.layers) packages for this layer. For more of a challenge, only use other TensorFlow packages."
   ]
  },
  {
   "cell_type": "code",
   "execution_count": 147,
   "metadata": {
    "collapsed": false,
    "deletable": true,
    "editable": true
   },
   "outputs": [
    {
     "name": "stdout",
     "output_type": "stream",
     "text": [
      "Tests Passed\n"
     ]
    }
   ],
   "source": [
    "def fully_conn(x_tensor, num_outputs):\n",
    "    \"\"\"\n",
    "    Apply a fully connected layer to x_tensor using weight and bias\n",
    "    : x_tensor: A 2-D tensor where the first dimension is batch size.\n",
    "    : num_outputs: The number of output that the new tensor should be.\n",
    "    : return: A 2-D tensor where the second dimension is num_outputs.\n",
    "    \"\"\"\n",
    "    # TODO: Implement Function\n",
    "    # Specify a non-linear activation function.\n",
    "    return tf.layers.dense(x_tensor, num_outputs, tf.nn.relu)\n",
    "\n",
    "\n",
    "\"\"\"\n",
    "DON'T MODIFY ANYTHING IN THIS CELL THAT IS BELOW THIS LINE\n",
    "\"\"\"\n",
    "tests.test_fully_conn(fully_conn)"
   ]
  },
  {
   "cell_type": "markdown",
   "metadata": {
    "deletable": true,
    "editable": true
   },
   "source": [
    "### Output Layer\n",
    "Implement the `output` function to apply a fully connected layer to `x_tensor` with the shape (*Batch Size*, *num_outputs*). Shortcut option: you can use classes from the [TensorFlow Layers](https://www.tensorflow.org/api_docs/python/tf/layers) or [TensorFlow Layers (contrib)](https://www.tensorflow.org/api_guides/python/contrib.layers) packages for this layer. For more of a challenge, only use other TensorFlow packages.\n",
    "\n",
    "**Note:** Activation, softmax, or cross entropy should **not** be applied to this."
   ]
  },
  {
   "cell_type": "code",
   "execution_count": 71,
   "metadata": {
    "collapsed": false,
    "deletable": true,
    "editable": true
   },
   "outputs": [
    {
     "name": "stdout",
     "output_type": "stream",
     "text": [
      "Tests Passed\n"
     ]
    }
   ],
   "source": [
    "def output(x_tensor, num_outputs):\n",
    "    \"\"\"\n",
    "    Apply a output layer to x_tensor using weight and bias\n",
    "    : x_tensor: A 2-D tensor where the first dimension is batch size.\n",
    "    : num_outputs: The number of output that the new tensor should be.\n",
    "    : return: A 2-D tensor where the second dimension is num_outputs.\n",
    "    \"\"\"\n",
    "    # TODO: Implement Function\n",
    "    return tf.layers.dense(x_tensor, num_outputs)\n",
    "\n",
    "\n",
    "\"\"\"\n",
    "DON'T MODIFY ANYTHING IN THIS CELL THAT IS BELOW THIS LINE\n",
    "\"\"\"\n",
    "tests.test_output(output)"
   ]
  },
  {
   "cell_type": "markdown",
   "metadata": {
    "deletable": true,
    "editable": true
   },
   "source": [
    "### Create Convolutional Model\n",
    "Implement the function `conv_net` to create a convolutional neural network model. The function takes in a batch of images, `x`, and outputs logits.  Use the layers you created above to create this model:\n",
    "\n",
    "* Apply 1, 2, or 3 Convolution and Max Pool layers\n",
    "* Apply a Flatten Layer\n",
    "* Apply 1, 2, or 3 Fully Connected Layers\n",
    "* Apply an Output Layer\n",
    "* Return the output\n",
    "* Apply [TensorFlow's Dropout](https://www.tensorflow.org/api_docs/python/tf/nn/dropout) to one or more layers in the model using `keep_prob`. "
   ]
  },
  {
   "cell_type": "code",
   "execution_count": 259,
   "metadata": {
    "collapsed": false,
    "deletable": true,
    "editable": true
   },
   "outputs": [
    {
     "name": "stdout",
     "output_type": "stream",
     "text": [
      "Neural Network Built!\n"
     ]
    }
   ],
   "source": [
    "def conv_net(x, keep_prob):\n",
    "    \"\"\"\n",
    "    Create a convolutional neural network model\n",
    "    : x: Placeholder tensor that holds image data.\n",
    "    : keep_prob: Placeholder tensor that hold dropout keep probability.\n",
    "    : return: Tensor that represents logits\n",
    "    \"\"\"\n",
    "    # TODO: Apply 1, 2, or 3 Convolution and Max Pool layers\n",
    "    #    Play around with different number of outputs, kernel size and stride\n",
    "    # Function Definition from Above:\n",
    "    #    conv2d_maxpool(x_tensor, conv_num_outputs, conv_ksize, conv_strides, pool_ksize, pool_strides)\n",
    "    # Non-linear activation function was specified within CONV2D_MAXPOOL function\n",
    "    conv_pool1 = conv2d_maxpool(x,        32, [3,3], [1,1], [2,2], [1,1])\n",
    "    dropout1   = tf.nn.dropout(conv_pool1,keep_prob)\n",
    "    conv_pool2 = conv2d_maxpool(dropout1, 32, [3,3], [1,1], [2,2], [2,2])\n",
    "    \n",
    "    # TODO: Apply a Flatten Layer\n",
    "    # Function Definition from Above:\n",
    "    #   flatten(x_tensor)\n",
    "    flattened = flatten(conv_pool2)\n",
    "\n",
    "    # TODO: Apply 1, 2, or 3 Fully Connected Layers\n",
    "    #    Play around with different number of outputs\n",
    "    # Function Definition from Above:\n",
    "    #   fully_conn(x_tensor, num_outputs)\n",
    "    # Non-linear activation function specified within FULLY_CONN function\n",
    "    fullyconn1 = fully_conn(flattened, 256)\n",
    "    dropout2   = tf.nn.dropout(fullyconn1,keep_prob)\n",
    "    fullyconn2 = fully_conn(dropout2, 128)\n",
    "    dropout3   = tf.nn.dropout(fullyconn2,keep_prob)\n",
    "    \n",
    "    # TODO: Apply an Output Layer\n",
    "    #    Set this to the number of classes\n",
    "    # Function Definition from Above:\n",
    "    #   output(x_tensor, num_outputs)\n",
    "    out = output(dropout3, 10)  \n",
    "\n",
    "    # TODO: return output\n",
    "    return out\n",
    "\n",
    "\n",
    "\"\"\"\n",
    "DON'T MODIFY ANYTHING IN THIS CELL THAT IS BELOW THIS LINE\n",
    "\"\"\"\n",
    "\n",
    "##############################\n",
    "## Build the Neural Network ##\n",
    "##############################\n",
    "\n",
    "# Remove previous weights, bias, inputs, etc..\n",
    "tf.reset_default_graph()\n",
    "\n",
    "# Inputs\n",
    "x = neural_net_image_input((32, 32, 3))\n",
    "y = neural_net_label_input(10)\n",
    "keep_prob = neural_net_keep_prob_input()\n",
    "\n",
    "# Model\n",
    "logits = conv_net(x, keep_prob)\n",
    "\n",
    "# Name logits Tensor, so that is can be loaded from disk after training\n",
    "logits = tf.identity(logits, name='logits')\n",
    "\n",
    "# Loss and Optimizer\n",
    "cost = tf.reduce_mean(tf.nn.softmax_cross_entropy_with_logits(logits=logits, labels=y))\n",
    "optimizer = tf.train.AdamOptimizer().minimize(cost)\n",
    "\n",
    "# Accuracy\n",
    "correct_pred = tf.equal(tf.argmax(logits, 1), tf.argmax(y, 1))\n",
    "accuracy = tf.reduce_mean(tf.cast(correct_pred, tf.float32), name='accuracy')\n",
    "\n",
    "tests.test_conv_net(conv_net)"
   ]
  },
  {
   "cell_type": "markdown",
   "metadata": {
    "deletable": true,
    "editable": true
   },
   "source": [
    "## Train the Neural Network\n",
    "### Single Optimization\n",
    "Implement the function `train_neural_network` to do a single optimization.  The optimization should use `optimizer` to optimize in `session` with a `feed_dict` of the following:\n",
    "* `x` for image input\n",
    "* `y` for labels\n",
    "* `keep_prob` for keep probability for dropout\n",
    "\n",
    "This function will be called for each batch, so `tf.global_variables_initializer()` has already been called.\n",
    "\n",
    "Note: Nothing needs to be returned. This function is only optimizing the neural network."
   ]
  },
  {
   "cell_type": "code",
   "execution_count": 73,
   "metadata": {
    "collapsed": false,
    "deletable": true,
    "editable": true
   },
   "outputs": [
    {
     "name": "stdout",
     "output_type": "stream",
     "text": [
      "Tests Passed\n"
     ]
    }
   ],
   "source": [
    "def train_neural_network(session, optimizer, keep_probability, feature_batch, label_batch):\n",
    "    \"\"\"\n",
    "    Optimize the session on a batch of images and labels\n",
    "    : session: Current TensorFlow session\n",
    "    : optimizer: TensorFlow optimizer function\n",
    "    : keep_probability: keep probability\n",
    "    : feature_batch: Batch of Numpy image data\n",
    "    : label_batch: Batch of Numpy label data\n",
    "    \"\"\"\n",
    "    # TODO: Implement Function\n",
    "    session.run(optimizer, feed_dict={x: feature_batch, y: label_batch, keep_prob: keep_probability})\n",
    "\n",
    "\n",
    "\"\"\"\n",
    "DON'T MODIFY ANYTHING IN THIS CELL THAT IS BELOW THIS LINE\n",
    "\"\"\"\n",
    "tests.test_train_nn(train_neural_network)"
   ]
  },
  {
   "cell_type": "markdown",
   "metadata": {
    "deletable": true,
    "editable": true
   },
   "source": [
    "### Show Stats\n",
    "Implement the function `print_stats` to print loss and validation accuracy.  Use the global variables `valid_features` and `valid_labels` to calculate validation accuracy.  Use a keep probability of `1.0` to calculate the loss and validation accuracy."
   ]
  },
  {
   "cell_type": "code",
   "execution_count": 74,
   "metadata": {
    "collapsed": false,
    "deletable": true,
    "editable": true
   },
   "outputs": [],
   "source": [
    "def print_stats(session, feature_batch, label_batch, cost, accuracy):\n",
    "    \"\"\"\n",
    "    Print information about loss and validation accuracy\n",
    "    : session: Current TensorFlow session\n",
    "    : feature_batch: Batch of Numpy image data\n",
    "    : label_batch: Batch of Numpy label data\n",
    "    : cost: TensorFlow cost function\n",
    "    : accuracy: TensorFlow accuracy function\n",
    "    \"\"\"\n",
    "    # TODO: Implement Function\n",
    "    # Adapting code from the Convolutional Neural Networks lesson, section 17\n",
    "    loss = sess.run(cost, feed_dict={x: feature_batch, y: label_batch, keep_prob: 1.})\n",
    "    \n",
    "    # Use the global variables valid_features and valid_labels to calculate validation accuracy.\n",
    "    valid_acc = sess.run(accuracy, feed_dict={x: valid_features, y: valid_labels, keep_prob: 1.})\n",
    "\n",
    "    print('Loss: {:>10.4f} Validation Accuracy: {:.6f}'.format(loss,valid_acc))\n",
    "    return"
   ]
  },
  {
   "cell_type": "markdown",
   "metadata": {
    "deletable": true,
    "editable": true
   },
   "source": [
    "##### Hyperparameters\n",
    "Tune the following parameters:\n",
    "* Set `epochs` to the number of iterations until the network stops learning or start overfitting\n",
    "* Set `batch_size` to the highest number that your machine has memory for.  Most people set them to common sizes of memory:\n",
    " * 64\n",
    " * 128\n",
    " * 256\n",
    " * ...\n",
    "* Set `keep_probability` to the probability of keeping a node using dropout"
   ]
  },
  {
   "cell_type": "code",
   "execution_count": 260,
   "metadata": {
    "collapsed": true,
    "deletable": true,
    "editable": true
   },
   "outputs": [],
   "source": [
    "# TODO: Tune Parameters\n",
    "epochs = 50\n",
    "batch_size = 1024\n",
    "keep_probability = 0.95"
   ]
  },
  {
   "cell_type": "markdown",
   "metadata": {
    "deletable": true,
    "editable": true
   },
   "source": [
    "### Train on a Single CIFAR-10 Batch\n",
    "Instead of training the neural network on all the CIFAR-10 batches of data, let's use a single batch. This should save time while you iterate on the model to get a better accuracy.  Once the final validation accuracy is 50% or greater, run the model on all the data in the next section."
   ]
  },
  {
   "cell_type": "code",
   "execution_count": 261,
   "metadata": {
    "collapsed": false,
    "deletable": true,
    "editable": true
   },
   "outputs": [
    {
     "name": "stdout",
     "output_type": "stream",
     "text": [
      "Checking the Training on a Single Batch...\n",
      "Epoch  1, CIFAR-10 Batch 1:  Loss:     2.2884 Validation Accuracy: 0.131400\n",
      "Epoch  2, CIFAR-10 Batch 1:  Loss:     2.2267 Validation Accuracy: 0.235200\n",
      "Epoch  3, CIFAR-10 Batch 1:  Loss:     2.0152 Validation Accuracy: 0.278000\n",
      "Epoch  4, CIFAR-10 Batch 1:  Loss:     1.9057 Validation Accuracy: 0.317600\n",
      "Epoch  5, CIFAR-10 Batch 1:  Loss:     1.7928 Validation Accuracy: 0.381400\n",
      "Epoch  6, CIFAR-10 Batch 1:  Loss:     1.6694 Validation Accuracy: 0.393800\n",
      "Epoch  7, CIFAR-10 Batch 1:  Loss:     1.5814 Validation Accuracy: 0.423000\n",
      "Epoch  8, CIFAR-10 Batch 1:  Loss:     1.5071 Validation Accuracy: 0.442800\n",
      "Epoch  9, CIFAR-10 Batch 1:  Loss:     1.4288 Validation Accuracy: 0.461600\n",
      "Epoch 10, CIFAR-10 Batch 1:  Loss:     1.3623 Validation Accuracy: 0.469800\n",
      "Epoch 11, CIFAR-10 Batch 1:  Loss:     1.3075 Validation Accuracy: 0.487000\n",
      "Epoch 12, CIFAR-10 Batch 1:  Loss:     1.2504 Validation Accuracy: 0.503000\n",
      "Epoch 13, CIFAR-10 Batch 1:  Loss:     1.2048 Validation Accuracy: 0.516200\n",
      "Epoch 14, CIFAR-10 Batch 1:  Loss:     1.1506 Validation Accuracy: 0.520800\n",
      "Epoch 15, CIFAR-10 Batch 1:  Loss:     1.0995 Validation Accuracy: 0.525200\n",
      "Epoch 16, CIFAR-10 Batch 1:  Loss:     1.0688 Validation Accuracy: 0.529800\n",
      "Epoch 17, CIFAR-10 Batch 1:  Loss:     1.0224 Validation Accuracy: 0.536800\n",
      "Epoch 18, CIFAR-10 Batch 1:  Loss:     0.9747 Validation Accuracy: 0.543400\n",
      "Epoch 19, CIFAR-10 Batch 1:  Loss:     0.9281 Validation Accuracy: 0.544400\n",
      "Epoch 20, CIFAR-10 Batch 1:  Loss:     0.8925 Validation Accuracy: 0.550400\n",
      "Epoch 21, CIFAR-10 Batch 1:  Loss:     0.8726 Validation Accuracy: 0.546400\n",
      "Epoch 22, CIFAR-10 Batch 1:  Loss:     0.8168 Validation Accuracy: 0.559800\n",
      "Epoch 23, CIFAR-10 Batch 1:  Loss:     0.8031 Validation Accuracy: 0.563600\n",
      "Epoch 24, CIFAR-10 Batch 1:  Loss:     0.7567 Validation Accuracy: 0.558800\n",
      "Epoch 25, CIFAR-10 Batch 1:  Loss:     0.7401 Validation Accuracy: 0.556600\n",
      "Epoch 26, CIFAR-10 Batch 1:  Loss:     0.7204 Validation Accuracy: 0.555600\n",
      "Epoch 27, CIFAR-10 Batch 1:  Loss:     0.6765 Validation Accuracy: 0.563000\n",
      "Epoch 28, CIFAR-10 Batch 1:  Loss:     0.6377 Validation Accuracy: 0.571200\n",
      "Epoch 29, CIFAR-10 Batch 1:  Loss:     0.6703 Validation Accuracy: 0.549800\n",
      "Epoch 30, CIFAR-10 Batch 1:  Loss:     0.6066 Validation Accuracy: 0.561800\n",
      "Epoch 31, CIFAR-10 Batch 1:  Loss:     0.5680 Validation Accuracy: 0.576600\n",
      "Epoch 32, CIFAR-10 Batch 1:  Loss:     0.5322 Validation Accuracy: 0.572000\n",
      "Epoch 33, CIFAR-10 Batch 1:  Loss:     0.5040 Validation Accuracy: 0.573400\n",
      "Epoch 34, CIFAR-10 Batch 1:  Loss:     0.4645 Validation Accuracy: 0.577400\n",
      "Epoch 35, CIFAR-10 Batch 1:  Loss:     0.4560 Validation Accuracy: 0.570600\n",
      "Epoch 36, CIFAR-10 Batch 1:  Loss:     0.4321 Validation Accuracy: 0.570200\n",
      "Epoch 37, CIFAR-10 Batch 1:  Loss:     0.4243 Validation Accuracy: 0.564800\n",
      "Epoch 38, CIFAR-10 Batch 1:  Loss:     0.4109 Validation Accuracy: 0.567000\n",
      "Epoch 39, CIFAR-10 Batch 1:  Loss:     0.4049 Validation Accuracy: 0.563800\n",
      "Epoch 40, CIFAR-10 Batch 1:  Loss:     0.3782 Validation Accuracy: 0.561200\n",
      "Epoch 41, CIFAR-10 Batch 1:  Loss:     0.3502 Validation Accuracy: 0.569400\n",
      "Epoch 42, CIFAR-10 Batch 1:  Loss:     0.3322 Validation Accuracy: 0.580600\n",
      "Epoch 43, CIFAR-10 Batch 1:  Loss:     0.3640 Validation Accuracy: 0.563200\n",
      "Epoch 44, CIFAR-10 Batch 1:  Loss:     0.3236 Validation Accuracy: 0.571600\n",
      "Epoch 45, CIFAR-10 Batch 1:  Loss:     0.2868 Validation Accuracy: 0.569000\n",
      "Epoch 46, CIFAR-10 Batch 1:  Loss:     0.2487 Validation Accuracy: 0.573400\n",
      "Epoch 47, CIFAR-10 Batch 1:  Loss:     0.2342 Validation Accuracy: 0.573600\n",
      "Epoch 48, CIFAR-10 Batch 1:  Loss:     0.2084 Validation Accuracy: 0.575800\n",
      "Epoch 49, CIFAR-10 Batch 1:  Loss:     0.1977 Validation Accuracy: 0.577800\n",
      "Epoch 50, CIFAR-10 Batch 1:  Loss:     0.1870 Validation Accuracy: 0.568800\n"
     ]
    }
   ],
   "source": [
    "\"\"\"\n",
    "DON'T MODIFY ANYTHING IN THIS CELL\n",
    "\"\"\"\n",
    "print('Checking the Training on a Single Batch...')\n",
    "with tf.Session() as sess:\n",
    "    # Initializing the variables\n",
    "    sess.run(tf.global_variables_initializer())\n",
    "    \n",
    "    # Training cycle\n",
    "    for epoch in range(epochs):\n",
    "        batch_i = 1\n",
    "        for batch_features, batch_labels in helper.load_preprocess_training_batch(batch_i, batch_size):\n",
    "            train_neural_network(sess, optimizer, keep_probability, batch_features, batch_labels)\n",
    "        print('Epoch {:>2}, CIFAR-10 Batch {}:  '.format(epoch + 1, batch_i), end='')\n",
    "        print_stats(sess, batch_features, batch_labels, cost, accuracy)"
   ]
  },
  {
   "cell_type": "markdown",
   "metadata": {
    "deletable": true,
    "editable": true
   },
   "source": [
    "### Fully Train the Model\n",
    "Now that you got a good accuracy with a single CIFAR-10 batch, try it with all five batches."
   ]
  },
  {
   "cell_type": "code",
   "execution_count": 262,
   "metadata": {
    "collapsed": false,
    "deletable": true,
    "editable": true
   },
   "outputs": [
    {
     "name": "stdout",
     "output_type": "stream",
     "text": [
      "Training...\n",
      "Epoch  1, CIFAR-10 Batch 1:  Loss:     2.2503 Validation Accuracy: 0.202800\n",
      "Epoch  1, CIFAR-10 Batch 2:  Loss:     2.0884 Validation Accuracy: 0.263000\n",
      "Epoch  1, CIFAR-10 Batch 3:  Loss:     1.8535 Validation Accuracy: 0.328600\n",
      "Epoch  1, CIFAR-10 Batch 4:  Loss:     1.7061 Validation Accuracy: 0.403800\n",
      "Epoch  1, CIFAR-10 Batch 5:  Loss:     1.6299 Validation Accuracy: 0.409800\n",
      "Epoch  2, CIFAR-10 Batch 1:  Loss:     1.5654 Validation Accuracy: 0.442400\n",
      "Epoch  2, CIFAR-10 Batch 2:  Loss:     1.5211 Validation Accuracy: 0.462400\n",
      "Epoch  2, CIFAR-10 Batch 3:  Loss:     1.4229 Validation Accuracy: 0.476400\n",
      "Epoch  2, CIFAR-10 Batch 4:  Loss:     1.3978 Validation Accuracy: 0.483600\n",
      "Epoch  2, CIFAR-10 Batch 5:  Loss:     1.3661 Validation Accuracy: 0.497600\n",
      "Epoch  3, CIFAR-10 Batch 1:  Loss:     1.3300 Validation Accuracy: 0.504400\n",
      "Epoch  3, CIFAR-10 Batch 2:  Loss:     1.3379 Validation Accuracy: 0.528800\n",
      "Epoch  3, CIFAR-10 Batch 3:  Loss:     1.2255 Validation Accuracy: 0.538200\n",
      "Epoch  3, CIFAR-10 Batch 4:  Loss:     1.2247 Validation Accuracy: 0.538600\n",
      "Epoch  3, CIFAR-10 Batch 5:  Loss:     1.1888 Validation Accuracy: 0.551600\n",
      "Epoch  4, CIFAR-10 Batch 1:  Loss:     1.1974 Validation Accuracy: 0.537800\n",
      "Epoch  4, CIFAR-10 Batch 2:  Loss:     1.1768 Validation Accuracy: 0.561600\n",
      "Epoch  4, CIFAR-10 Batch 3:  Loss:     1.0951 Validation Accuracy: 0.569000\n",
      "Epoch  4, CIFAR-10 Batch 4:  Loss:     1.0882 Validation Accuracy: 0.572600\n",
      "Epoch  4, CIFAR-10 Batch 5:  Loss:     1.0533 Validation Accuracy: 0.585000\n",
      "Epoch  5, CIFAR-10 Batch 1:  Loss:     1.0540 Validation Accuracy: 0.588800\n",
      "Epoch  5, CIFAR-10 Batch 2:  Loss:     1.0888 Validation Accuracy: 0.588600\n",
      "Epoch  5, CIFAR-10 Batch 3:  Loss:     1.0287 Validation Accuracy: 0.589200\n",
      "Epoch  5, CIFAR-10 Batch 4:  Loss:     0.9893 Validation Accuracy: 0.598200\n",
      "Epoch  5, CIFAR-10 Batch 5:  Loss:     0.9600 Validation Accuracy: 0.605200\n",
      "Epoch  6, CIFAR-10 Batch 1:  Loss:     0.9937 Validation Accuracy: 0.604800\n",
      "Epoch  6, CIFAR-10 Batch 2:  Loss:     0.9914 Validation Accuracy: 0.614600\n",
      "Epoch  6, CIFAR-10 Batch 3:  Loss:     0.9527 Validation Accuracy: 0.601800\n",
      "Epoch  6, CIFAR-10 Batch 4:  Loss:     0.9158 Validation Accuracy: 0.621400\n",
      "Epoch  6, CIFAR-10 Batch 5:  Loss:     0.8867 Validation Accuracy: 0.620600\n",
      "Epoch  7, CIFAR-10 Batch 1:  Loss:     0.9444 Validation Accuracy: 0.607800\n",
      "Epoch  7, CIFAR-10 Batch 2:  Loss:     0.9187 Validation Accuracy: 0.638800\n",
      "Epoch  7, CIFAR-10 Batch 3:  Loss:     0.8867 Validation Accuracy: 0.617000\n",
      "Epoch  7, CIFAR-10 Batch 4:  Loss:     0.8534 Validation Accuracy: 0.635000\n",
      "Epoch  7, CIFAR-10 Batch 5:  Loss:     0.8117 Validation Accuracy: 0.643200\n",
      "Epoch  8, CIFAR-10 Batch 1:  Loss:     0.8981 Validation Accuracy: 0.620600\n",
      "Epoch  8, CIFAR-10 Batch 2:  Loss:     0.8830 Validation Accuracy: 0.647600\n",
      "Epoch  8, CIFAR-10 Batch 3:  Loss:     0.8061 Validation Accuracy: 0.637800\n",
      "Epoch  8, CIFAR-10 Batch 4:  Loss:     0.7911 Validation Accuracy: 0.650400\n",
      "Epoch  8, CIFAR-10 Batch 5:  Loss:     0.7567 Validation Accuracy: 0.650200\n",
      "Epoch  9, CIFAR-10 Batch 1:  Loss:     0.8210 Validation Accuracy: 0.638400\n",
      "Epoch  9, CIFAR-10 Batch 2:  Loss:     0.8044 Validation Accuracy: 0.655200\n",
      "Epoch  9, CIFAR-10 Batch 3:  Loss:     0.7717 Validation Accuracy: 0.639200\n",
      "Epoch  9, CIFAR-10 Batch 4:  Loss:     0.7602 Validation Accuracy: 0.651800\n",
      "Epoch  9, CIFAR-10 Batch 5:  Loss:     0.6921 Validation Accuracy: 0.659600\n",
      "Epoch 10, CIFAR-10 Batch 1:  Loss:     0.7643 Validation Accuracy: 0.655800\n",
      "Epoch 10, CIFAR-10 Batch 2:  Loss:     0.7680 Validation Accuracy: 0.659800\n",
      "Epoch 10, CIFAR-10 Batch 3:  Loss:     0.7336 Validation Accuracy: 0.653200\n",
      "Epoch 10, CIFAR-10 Batch 4:  Loss:     0.6928 Validation Accuracy: 0.660000\n",
      "Epoch 10, CIFAR-10 Batch 5:  Loss:     0.6475 Validation Accuracy: 0.666800\n",
      "Epoch 11, CIFAR-10 Batch 1:  Loss:     0.7109 Validation Accuracy: 0.661600\n",
      "Epoch 11, CIFAR-10 Batch 2:  Loss:     0.7305 Validation Accuracy: 0.656800\n",
      "Epoch 11, CIFAR-10 Batch 3:  Loss:     0.6745 Validation Accuracy: 0.662200\n",
      "Epoch 11, CIFAR-10 Batch 4:  Loss:     0.6597 Validation Accuracy: 0.661000\n",
      "Epoch 11, CIFAR-10 Batch 5:  Loss:     0.6365 Validation Accuracy: 0.666200\n",
      "Epoch 12, CIFAR-10 Batch 1:  Loss:     0.6654 Validation Accuracy: 0.669800\n",
      "Epoch 12, CIFAR-10 Batch 2:  Loss:     0.6680 Validation Accuracy: 0.677800\n",
      "Epoch 12, CIFAR-10 Batch 3:  Loss:     0.6503 Validation Accuracy: 0.658400\n",
      "Epoch 12, CIFAR-10 Batch 4:  Loss:     0.6543 Validation Accuracy: 0.657000\n",
      "Epoch 12, CIFAR-10 Batch 5:  Loss:     0.5967 Validation Accuracy: 0.678600\n",
      "Epoch 13, CIFAR-10 Batch 1:  Loss:     0.6179 Validation Accuracy: 0.671000\n",
      "Epoch 13, CIFAR-10 Batch 2:  Loss:     0.6244 Validation Accuracy: 0.679600\n",
      "Epoch 13, CIFAR-10 Batch 3:  Loss:     0.5908 Validation Accuracy: 0.673200\n",
      "Epoch 13, CIFAR-10 Batch 4:  Loss:     0.5746 Validation Accuracy: 0.677600\n",
      "Epoch 13, CIFAR-10 Batch 5:  Loss:     0.5599 Validation Accuracy: 0.669200\n",
      "Epoch 14, CIFAR-10 Batch 1:  Loss:     0.5950 Validation Accuracy: 0.670600\n",
      "Epoch 14, CIFAR-10 Batch 2:  Loss:     0.5865 Validation Accuracy: 0.685600\n",
      "Epoch 14, CIFAR-10 Batch 3:  Loss:     0.5395 Validation Accuracy: 0.677000\n",
      "Epoch 14, CIFAR-10 Batch 4:  Loss:     0.5497 Validation Accuracy: 0.672400\n",
      "Epoch 14, CIFAR-10 Batch 5:  Loss:     0.5113 Validation Accuracy: 0.674000\n",
      "Epoch 15, CIFAR-10 Batch 1:  Loss:     0.5263 Validation Accuracy: 0.681000\n",
      "Epoch 15, CIFAR-10 Batch 2:  Loss:     0.5321 Validation Accuracy: 0.688600\n",
      "Epoch 15, CIFAR-10 Batch 3:  Loss:     0.5008 Validation Accuracy: 0.685200\n",
      "Epoch 15, CIFAR-10 Batch 4:  Loss:     0.4944 Validation Accuracy: 0.676600\n",
      "Epoch 15, CIFAR-10 Batch 5:  Loss:     0.4886 Validation Accuracy: 0.675000\n",
      "Epoch 16, CIFAR-10 Batch 1:  Loss:     0.4863 Validation Accuracy: 0.683800\n",
      "Epoch 16, CIFAR-10 Batch 2:  Loss:     0.4839 Validation Accuracy: 0.688800\n",
      "Epoch 16, CIFAR-10 Batch 3:  Loss:     0.4700 Validation Accuracy: 0.688200\n",
      "Epoch 16, CIFAR-10 Batch 4:  Loss:     0.4433 Validation Accuracy: 0.686400\n",
      "Epoch 16, CIFAR-10 Batch 5:  Loss:     0.4498 Validation Accuracy: 0.675800\n",
      "Epoch 17, CIFAR-10 Batch 1:  Loss:     0.4785 Validation Accuracy: 0.678600\n",
      "Epoch 17, CIFAR-10 Batch 2:  Loss:     0.4949 Validation Accuracy: 0.675400\n",
      "Epoch 17, CIFAR-10 Batch 3:  Loss:     0.4879 Validation Accuracy: 0.666800\n",
      "Epoch 17, CIFAR-10 Batch 4:  Loss:     0.4230 Validation Accuracy: 0.685800\n",
      "Epoch 17, CIFAR-10 Batch 5:  Loss:     0.4047 Validation Accuracy: 0.683200\n",
      "Epoch 18, CIFAR-10 Batch 1:  Loss:     0.4951 Validation Accuracy: 0.669400\n",
      "Epoch 18, CIFAR-10 Batch 2:  Loss:     0.4483 Validation Accuracy: 0.677800\n",
      "Epoch 18, CIFAR-10 Batch 3:  Loss:     0.4478 Validation Accuracy: 0.669800\n",
      "Epoch 18, CIFAR-10 Batch 4:  Loss:     0.4191 Validation Accuracy: 0.680200\n",
      "Epoch 18, CIFAR-10 Batch 5:  Loss:     0.3983 Validation Accuracy: 0.678200\n",
      "Epoch 19, CIFAR-10 Batch 1:  Loss:     0.4360 Validation Accuracy: 0.680200\n",
      "Epoch 19, CIFAR-10 Batch 2:  Loss:     0.4281 Validation Accuracy: 0.670800\n",
      "Epoch 19, CIFAR-10 Batch 3:  Loss:     0.4138 Validation Accuracy: 0.673400\n",
      "Epoch 19, CIFAR-10 Batch 4:  Loss:     0.4020 Validation Accuracy: 0.674200\n",
      "Epoch 19, CIFAR-10 Batch 5:  Loss:     0.3767 Validation Accuracy: 0.679400\n",
      "Epoch 20, CIFAR-10 Batch 1:  Loss:     0.4178 Validation Accuracy: 0.681800\n",
      "Epoch 20, CIFAR-10 Batch 2:  Loss:     0.4040 Validation Accuracy: 0.680000\n",
      "Epoch 20, CIFAR-10 Batch 3:  Loss:     0.3937 Validation Accuracy: 0.671800\n",
      "Epoch 20, CIFAR-10 Batch 4:  Loss:     0.3639 Validation Accuracy: 0.676000\n",
      "Epoch 20, CIFAR-10 Batch 5:  Loss:     0.3174 Validation Accuracy: 0.691800\n",
      "Epoch 21, CIFAR-10 Batch 1:  Loss:     0.3853 Validation Accuracy: 0.687000\n",
      "Epoch 21, CIFAR-10 Batch 2:  Loss:     0.3606 Validation Accuracy: 0.688400\n",
      "Epoch 21, CIFAR-10 Batch 3:  Loss:     0.3513 Validation Accuracy: 0.671600\n",
      "Epoch 21, CIFAR-10 Batch 4:  Loss:     0.3458 Validation Accuracy: 0.666600\n",
      "Epoch 21, CIFAR-10 Batch 5:  Loss:     0.3097 Validation Accuracy: 0.691400\n",
      "Epoch 22, CIFAR-10 Batch 1:  Loss:     0.3578 Validation Accuracy: 0.678800\n",
      "Epoch 22, CIFAR-10 Batch 2:  Loss:     0.3380 Validation Accuracy: 0.685600\n",
      "Epoch 22, CIFAR-10 Batch 3:  Loss:     0.3267 Validation Accuracy: 0.676600\n",
      "Epoch 22, CIFAR-10 Batch 4:  Loss:     0.3214 Validation Accuracy: 0.669800\n",
      "Epoch 22, CIFAR-10 Batch 5:  Loss:     0.2935 Validation Accuracy: 0.682600\n",
      "Epoch 23, CIFAR-10 Batch 1:  Loss:     0.3533 Validation Accuracy: 0.668600\n",
      "Epoch 23, CIFAR-10 Batch 2:  Loss:     0.2920 Validation Accuracy: 0.686600\n",
      "Epoch 23, CIFAR-10 Batch 3:  Loss:     0.3028 Validation Accuracy: 0.670000\n",
      "Epoch 23, CIFAR-10 Batch 4:  Loss:     0.2845 Validation Accuracy: 0.676200\n",
      "Epoch 23, CIFAR-10 Batch 5:  Loss:     0.2850 Validation Accuracy: 0.672200\n",
      "Epoch 24, CIFAR-10 Batch 1:  Loss:     0.3030 Validation Accuracy: 0.675000\n",
      "Epoch 24, CIFAR-10 Batch 2:  Loss:     0.2873 Validation Accuracy: 0.681200\n",
      "Epoch 24, CIFAR-10 Batch 3:  Loss:     0.2800 Validation Accuracy: 0.667000\n",
      "Epoch 24, CIFAR-10 Batch 4:  Loss:     0.2542 Validation Accuracy: 0.685200\n",
      "Epoch 24, CIFAR-10 Batch 5:  Loss:     0.2798 Validation Accuracy: 0.673000\n",
      "Epoch 25, CIFAR-10 Batch 1:  Loss:     0.3030 Validation Accuracy: 0.677600\n",
      "Epoch 25, CIFAR-10 Batch 2:  Loss:     0.2768 Validation Accuracy: 0.680200\n",
      "Epoch 25, CIFAR-10 Batch 3:  Loss:     0.2647 Validation Accuracy: 0.664200\n",
      "Epoch 25, CIFAR-10 Batch 4:  Loss:     0.2654 Validation Accuracy: 0.671000\n",
      "Epoch 25, CIFAR-10 Batch 5:  Loss:     0.2427 Validation Accuracy: 0.682400\n",
      "Epoch 26, CIFAR-10 Batch 1:  Loss:     0.2878 Validation Accuracy: 0.672400\n",
      "Epoch 26, CIFAR-10 Batch 2:  Loss:     0.2534 Validation Accuracy: 0.684600\n",
      "Epoch 26, CIFAR-10 Batch 3:  Loss:     0.2295 Validation Accuracy: 0.664400\n",
      "Epoch 26, CIFAR-10 Batch 4:  Loss:     0.2519 Validation Accuracy: 0.655400\n",
      "Epoch 26, CIFAR-10 Batch 5:  Loss:     0.2371 Validation Accuracy: 0.671800\n",
      "Epoch 27, CIFAR-10 Batch 1:  Loss:     0.2484 Validation Accuracy: 0.676600\n",
      "Epoch 27, CIFAR-10 Batch 2:  Loss:     0.2213 Validation Accuracy: 0.682200\n",
      "Epoch 27, CIFAR-10 Batch 3:  Loss:     0.2330 Validation Accuracy: 0.665400\n",
      "Epoch 27, CIFAR-10 Batch 4:  Loss:     0.2738 Validation Accuracy: 0.637400\n",
      "Epoch 27, CIFAR-10 Batch 5:  Loss:     0.2323 Validation Accuracy: 0.666400\n",
      "Epoch 28, CIFAR-10 Batch 1:  Loss:     0.2359 Validation Accuracy: 0.680800\n",
      "Epoch 28, CIFAR-10 Batch 2:  Loss:     0.2399 Validation Accuracy: 0.671200\n",
      "Epoch 28, CIFAR-10 Batch 3:  Loss:     0.2387 Validation Accuracy: 0.664800\n",
      "Epoch 28, CIFAR-10 Batch 4:  Loss:     0.2459 Validation Accuracy: 0.663200\n",
      "Epoch 28, CIFAR-10 Batch 5:  Loss:     0.2288 Validation Accuracy: 0.663800\n",
      "Epoch 29, CIFAR-10 Batch 1:  Loss:     0.2213 Validation Accuracy: 0.686000\n",
      "Epoch 29, CIFAR-10 Batch 2:  Loss:     0.2475 Validation Accuracy: 0.661000\n",
      "Epoch 29, CIFAR-10 Batch 3:  Loss:     0.2001 Validation Accuracy: 0.679000\n",
      "Epoch 29, CIFAR-10 Batch 4:  Loss:     0.1925 Validation Accuracy: 0.672400\n",
      "Epoch 29, CIFAR-10 Batch 5:  Loss:     0.1839 Validation Accuracy: 0.671400\n",
      "Epoch 30, CIFAR-10 Batch 1:  Loss:     0.1935 Validation Accuracy: 0.683200\n",
      "Epoch 30, CIFAR-10 Batch 2:  Loss:     0.2061 Validation Accuracy: 0.677000\n",
      "Epoch 30, CIFAR-10 Batch 3:  Loss:     0.1698 Validation Accuracy: 0.684200\n",
      "Epoch 30, CIFAR-10 Batch 4:  Loss:     0.1647 Validation Accuracy: 0.669600\n",
      "Epoch 30, CIFAR-10 Batch 5:  Loss:     0.1588 Validation Accuracy: 0.675000\n",
      "Epoch 31, CIFAR-10 Batch 1:  Loss:     0.1586 Validation Accuracy: 0.683600\n",
      "Epoch 31, CIFAR-10 Batch 2:  Loss:     0.1585 Validation Accuracy: 0.679400\n",
      "Epoch 31, CIFAR-10 Batch 3:  Loss:     0.1500 Validation Accuracy: 0.676600\n",
      "Epoch 31, CIFAR-10 Batch 4:  Loss:     0.1463 Validation Accuracy: 0.666800\n",
      "Epoch 31, CIFAR-10 Batch 5:  Loss:     0.1279 Validation Accuracy: 0.679200\n",
      "Epoch 32, CIFAR-10 Batch 1:  Loss:     0.1442 Validation Accuracy: 0.680000\n",
      "Epoch 32, CIFAR-10 Batch 2:  Loss:     0.1317 Validation Accuracy: 0.681600\n",
      "Epoch 32, CIFAR-10 Batch 3:  Loss:     0.1382 Validation Accuracy: 0.676600\n",
      "Epoch 32, CIFAR-10 Batch 4:  Loss:     0.1398 Validation Accuracy: 0.662200\n",
      "Epoch 32, CIFAR-10 Batch 5:  Loss:     0.1273 Validation Accuracy: 0.666200\n",
      "Epoch 33, CIFAR-10 Batch 1:  Loss:     0.1511 Validation Accuracy: 0.670600\n",
      "Epoch 33, CIFAR-10 Batch 2:  Loss:     0.1349 Validation Accuracy: 0.671600\n",
      "Epoch 33, CIFAR-10 Batch 3:  Loss:     0.1412 Validation Accuracy: 0.671600\n",
      "Epoch 33, CIFAR-10 Batch 4:  Loss:     0.1374 Validation Accuracy: 0.667400\n",
      "Epoch 33, CIFAR-10 Batch 5:  Loss:     0.1228 Validation Accuracy: 0.662800\n",
      "Epoch 34, CIFAR-10 Batch 1:  Loss:     0.1647 Validation Accuracy: 0.662200\n",
      "Epoch 34, CIFAR-10 Batch 2:  Loss:     0.1374 Validation Accuracy: 0.667000\n",
      "Epoch 34, CIFAR-10 Batch 3:  Loss:     0.1379 Validation Accuracy: 0.674400\n",
      "Epoch 34, CIFAR-10 Batch 4:  Loss:     0.1135 Validation Accuracy: 0.668800\n",
      "Epoch 34, CIFAR-10 Batch 5:  Loss:     0.1135 Validation Accuracy: 0.674400\n",
      "Epoch 35, CIFAR-10 Batch 1:  Loss:     0.1244 Validation Accuracy: 0.675800\n",
      "Epoch 35, CIFAR-10 Batch 2:  Loss:     0.1237 Validation Accuracy: 0.663400\n",
      "Epoch 35, CIFAR-10 Batch 3:  Loss:     0.1132 Validation Accuracy: 0.671600\n",
      "Epoch 35, CIFAR-10 Batch 4:  Loss:     0.1373 Validation Accuracy: 0.659000\n",
      "Epoch 35, CIFAR-10 Batch 5:  Loss:     0.1308 Validation Accuracy: 0.659000\n",
      "Epoch 36, CIFAR-10 Batch 1:  Loss:     0.1457 Validation Accuracy: 0.673800\n",
      "Epoch 36, CIFAR-10 Batch 2:  Loss:     0.1272 Validation Accuracy: 0.658200\n",
      "Epoch 36, CIFAR-10 Batch 3:  Loss:     0.1241 Validation Accuracy: 0.669000\n",
      "Epoch 36, CIFAR-10 Batch 4:  Loss:     0.1743 Validation Accuracy: 0.634400\n",
      "Epoch 36, CIFAR-10 Batch 5:  Loss:     0.1579 Validation Accuracy: 0.652400\n",
      "Epoch 37, CIFAR-10 Batch 1:  Loss:     0.1563 Validation Accuracy: 0.661400\n",
      "Epoch 37, CIFAR-10 Batch 2:  Loss:     0.1518 Validation Accuracy: 0.647200\n",
      "Epoch 37, CIFAR-10 Batch 3:  Loss:     0.1358 Validation Accuracy: 0.662000\n",
      "Epoch 37, CIFAR-10 Batch 4:  Loss:     0.1367 Validation Accuracy: 0.643800\n",
      "Epoch 37, CIFAR-10 Batch 5:  Loss:     0.1200 Validation Accuracy: 0.660400\n",
      "Epoch 38, CIFAR-10 Batch 1:  Loss:     0.1308 Validation Accuracy: 0.662200\n",
      "Epoch 38, CIFAR-10 Batch 2:  Loss:     0.1311 Validation Accuracy: 0.664600\n",
      "Epoch 38, CIFAR-10 Batch 3:  Loss:     0.1230 Validation Accuracy: 0.661400\n",
      "Epoch 38, CIFAR-10 Batch 4:  Loss:     0.1386 Validation Accuracy: 0.651400\n",
      "Epoch 38, CIFAR-10 Batch 5:  Loss:     0.1491 Validation Accuracy: 0.645800\n",
      "Epoch 39, CIFAR-10 Batch 1:  Loss:     0.1524 Validation Accuracy: 0.643400\n",
      "Epoch 39, CIFAR-10 Batch 2:  Loss:     0.1464 Validation Accuracy: 0.655200\n",
      "Epoch 39, CIFAR-10 Batch 3:  Loss:     0.1507 Validation Accuracy: 0.653400\n",
      "Epoch 39, CIFAR-10 Batch 4:  Loss:     0.1299 Validation Accuracy: 0.644800\n",
      "Epoch 39, CIFAR-10 Batch 5:  Loss:     0.0944 Validation Accuracy: 0.659000\n",
      "Epoch 40, CIFAR-10 Batch 1:  Loss:     0.1044 Validation Accuracy: 0.667200\n",
      "Epoch 40, CIFAR-10 Batch 2:  Loss:     0.0982 Validation Accuracy: 0.666400\n",
      "Epoch 40, CIFAR-10 Batch 3:  Loss:     0.1171 Validation Accuracy: 0.666400\n",
      "Epoch 40, CIFAR-10 Batch 4:  Loss:     0.0856 Validation Accuracy: 0.662400\n",
      "Epoch 40, CIFAR-10 Batch 5:  Loss:     0.0844 Validation Accuracy: 0.659000\n",
      "Epoch 41, CIFAR-10 Batch 1:  Loss:     0.0908 Validation Accuracy: 0.667800\n",
      "Epoch 41, CIFAR-10 Batch 2:  Loss:     0.0742 Validation Accuracy: 0.674800\n",
      "Epoch 41, CIFAR-10 Batch 3:  Loss:     0.0939 Validation Accuracy: 0.660600\n",
      "Epoch 41, CIFAR-10 Batch 4:  Loss:     0.0747 Validation Accuracy: 0.666400\n",
      "Epoch 41, CIFAR-10 Batch 5:  Loss:     0.0625 Validation Accuracy: 0.666200\n",
      "Epoch 42, CIFAR-10 Batch 1:  Loss:     0.0595 Validation Accuracy: 0.680600\n",
      "Epoch 42, CIFAR-10 Batch 2:  Loss:     0.0667 Validation Accuracy: 0.677000\n",
      "Epoch 42, CIFAR-10 Batch 3:  Loss:     0.0607 Validation Accuracy: 0.668600\n",
      "Epoch 42, CIFAR-10 Batch 4:  Loss:     0.0548 Validation Accuracy: 0.661800\n",
      "Epoch 42, CIFAR-10 Batch 5:  Loss:     0.0487 Validation Accuracy: 0.666200\n",
      "Epoch 43, CIFAR-10 Batch 1:  Loss:     0.0546 Validation Accuracy: 0.674400\n",
      "Epoch 43, CIFAR-10 Batch 2:  Loss:     0.0665 Validation Accuracy: 0.674200\n",
      "Epoch 43, CIFAR-10 Batch 3:  Loss:     0.0501 Validation Accuracy: 0.661000\n",
      "Epoch 43, CIFAR-10 Batch 4:  Loss:     0.0528 Validation Accuracy: 0.659000\n",
      "Epoch 43, CIFAR-10 Batch 5:  Loss:     0.0502 Validation Accuracy: 0.663800\n",
      "Epoch 44, CIFAR-10 Batch 1:  Loss:     0.0483 Validation Accuracy: 0.674000\n",
      "Epoch 44, CIFAR-10 Batch 2:  Loss:     0.0521 Validation Accuracy: 0.679000\n",
      "Epoch 44, CIFAR-10 Batch 3:  Loss:     0.0562 Validation Accuracy: 0.657800\n",
      "Epoch 44, CIFAR-10 Batch 4:  Loss:     0.0545 Validation Accuracy: 0.656800\n",
      "Epoch 44, CIFAR-10 Batch 5:  Loss:     0.0452 Validation Accuracy: 0.661000\n",
      "Epoch 45, CIFAR-10 Batch 1:  Loss:     0.0497 Validation Accuracy: 0.673800\n",
      "Epoch 45, CIFAR-10 Batch 2:  Loss:     0.0450 Validation Accuracy: 0.681800\n",
      "Epoch 45, CIFAR-10 Batch 3:  Loss:     0.0490 Validation Accuracy: 0.666400\n",
      "Epoch 45, CIFAR-10 Batch 4:  Loss:     0.0427 Validation Accuracy: 0.662600\n",
      "Epoch 45, CIFAR-10 Batch 5:  Loss:     0.0417 Validation Accuracy: 0.662400\n",
      "Epoch 46, CIFAR-10 Batch 1:  Loss:     0.0485 Validation Accuracy: 0.670000\n",
      "Epoch 46, CIFAR-10 Batch 2:  Loss:     0.0488 Validation Accuracy: 0.678800\n",
      "Epoch 46, CIFAR-10 Batch 3:  Loss:     0.0575 Validation Accuracy: 0.660200\n",
      "Epoch 46, CIFAR-10 Batch 4:  Loss:     0.0480 Validation Accuracy: 0.660600\n",
      "Epoch 46, CIFAR-10 Batch 5:  Loss:     0.0345 Validation Accuracy: 0.658800\n",
      "Epoch 47, CIFAR-10 Batch 1:  Loss:     0.0673 Validation Accuracy: 0.657800\n",
      "Epoch 47, CIFAR-10 Batch 2:  Loss:     0.0459 Validation Accuracy: 0.674600\n",
      "Epoch 47, CIFAR-10 Batch 3:  Loss:     0.0436 Validation Accuracy: 0.663000\n",
      "Epoch 47, CIFAR-10 Batch 4:  Loss:     0.0347 Validation Accuracy: 0.668000\n",
      "Epoch 47, CIFAR-10 Batch 5:  Loss:     0.0364 Validation Accuracy: 0.664800\n",
      "Epoch 48, CIFAR-10 Batch 1:  Loss:     0.0400 Validation Accuracy: 0.666800\n",
      "Epoch 48, CIFAR-10 Batch 2:  Loss:     0.0525 Validation Accuracy: 0.656000\n",
      "Epoch 48, CIFAR-10 Batch 3:  Loss:     0.0343 Validation Accuracy: 0.664800\n",
      "Epoch 48, CIFAR-10 Batch 4:  Loss:     0.0390 Validation Accuracy: 0.672400\n",
      "Epoch 48, CIFAR-10 Batch 5:  Loss:     0.0312 Validation Accuracy: 0.664600\n",
      "Epoch 49, CIFAR-10 Batch 1:  Loss:     0.0299 Validation Accuracy: 0.675000\n",
      "Epoch 49, CIFAR-10 Batch 2:  Loss:     0.0519 Validation Accuracy: 0.649600\n",
      "Epoch 49, CIFAR-10 Batch 3:  Loss:     0.0449 Validation Accuracy: 0.664600\n",
      "Epoch 49, CIFAR-10 Batch 4:  Loss:     0.0356 Validation Accuracy: 0.666800\n",
      "Epoch 49, CIFAR-10 Batch 5:  Loss:     0.0338 Validation Accuracy: 0.667600\n",
      "Epoch 50, CIFAR-10 Batch 1:  Loss:     0.0373 Validation Accuracy: 0.661800\n",
      "Epoch 50, CIFAR-10 Batch 2:  Loss:     0.0383 Validation Accuracy: 0.666800\n",
      "Epoch 50, CIFAR-10 Batch 3:  Loss:     0.0446 Validation Accuracy: 0.666800\n",
      "Epoch 50, CIFAR-10 Batch 4:  Loss:     0.0492 Validation Accuracy: 0.658800\n",
      "Epoch 50, CIFAR-10 Batch 5:  Loss:     0.0379 Validation Accuracy: 0.663600\n"
     ]
    }
   ],
   "source": [
    "\"\"\"\n",
    "DON'T MODIFY ANYTHING IN THIS CELL\n",
    "\"\"\"\n",
    "save_model_path = './image_classification'\n",
    "\n",
    "print('Training...')\n",
    "with tf.Session() as sess:\n",
    "    # Initializing the variables\n",
    "    sess.run(tf.global_variables_initializer())\n",
    "    \n",
    "    # Training cycle\n",
    "    for epoch in range(epochs):\n",
    "        # Loop over all batches\n",
    "        n_batches = 5\n",
    "        for batch_i in range(1, n_batches + 1):\n",
    "            for batch_features, batch_labels in helper.load_preprocess_training_batch(batch_i, batch_size):\n",
    "                train_neural_network(sess, optimizer, keep_probability, batch_features, batch_labels)\n",
    "            print('Epoch {:>2}, CIFAR-10 Batch {}:  '.format(epoch + 1, batch_i), end='')\n",
    "            print_stats(sess, batch_features, batch_labels, cost, accuracy)\n",
    "            \n",
    "    # Save Model\n",
    "    saver = tf.train.Saver()\n",
    "    save_path = saver.save(sess, save_model_path)"
   ]
  },
  {
   "cell_type": "markdown",
   "metadata": {
    "deletable": true,
    "editable": true
   },
   "source": [
    "# Checkpoint\n",
    "The model has been saved to disk.\n",
    "## Test Model\n",
    "Test your model against the test dataset.  This will be your final accuracy. You should have an accuracy greater than 50%. If you don't, keep tweaking the model architecture and parameters."
   ]
  },
  {
   "cell_type": "code",
   "execution_count": 263,
   "metadata": {
    "collapsed": false,
    "deletable": true,
    "editable": true
   },
   "outputs": [
    {
     "name": "stdout",
     "output_type": "stream",
     "text": [
      "Testing Accuracy: 0.6596958696842193\n",
      "\n"
     ]
    },
    {
     "data": {
      "image/png": "[encoded data removed]",
      "text/plain": [
       "<matplotlib.figure.Figure at 0x7fce1b4e6f28>"
      ]
     },
     "metadata": {
      "image/png": {
       "height": 319,
       "width": 354
      }
     },
     "output_type": "display_data"
    }
   ],
   "source": [
    "\"\"\"\n",
    "DON'T MODIFY ANYTHING IN THIS CELL\n",
    "\"\"\"\n",
    "%matplotlib inline\n",
    "%config InlineBackend.figure_format = 'retina'\n",
    "\n",
    "import tensorflow as tf\n",
    "import pickle\n",
    "import helper\n",
    "import random\n",
    "\n",
    "# Set batch size if not already set\n",
    "try:\n",
    "    if batch_size:\n",
    "        pass\n",
    "except NameError:\n",
    "    batch_size = 64\n",
    "\n",
    "save_model_path = './image_classification'\n",
    "n_samples = 4\n",
    "top_n_predictions = 3\n",
    "\n",
    "def test_model():\n",
    "    \"\"\"\n",
    "    Test the saved model against the test dataset\n",
    "    \"\"\"\n",
    "\n",
    "    test_features, test_labels = pickle.load(open('preprocess_training.p', mode='rb'))\n",
    "    loaded_graph = tf.Graph()\n",
    "\n",
    "    with tf.Session(graph=loaded_graph) as sess:\n",
    "        # Load model\n",
    "        loader = tf.train.import_meta_graph(save_model_path + '.meta')\n",
    "        loader.restore(sess, save_model_path)\n",
    "\n",
    "        # Get Tensors from loaded model\n",
    "        loaded_x = loaded_graph.get_tensor_by_name('x:0')\n",
    "        loaded_y = loaded_graph.get_tensor_by_name('y:0')\n",
    "        loaded_keep_prob = loaded_graph.get_tensor_by_name('keep_prob:0')\n",
    "        loaded_logits = loaded_graph.get_tensor_by_name('logits:0')\n",
    "        loaded_acc = loaded_graph.get_tensor_by_name('accuracy:0')\n",
    "        \n",
    "        # Get accuracy in batches for memory limitations\n",
    "        test_batch_acc_total = 0\n",
    "        test_batch_count = 0\n",
    "        \n",
    "        for train_feature_batch, train_label_batch in helper.batch_features_labels(test_features, test_labels, batch_size):\n",
    "            test_batch_acc_total += sess.run(\n",
    "                loaded_acc,\n",
    "                feed_dict={loaded_x: train_feature_batch, loaded_y: train_label_batch, loaded_keep_prob: 1.0})\n",
    "            test_batch_count += 1\n",
    "\n",
    "        print('Testing Accuracy: {}\\n'.format(test_batch_acc_total/test_batch_count))\n",
    "\n",
    "        # Print Random Samples\n",
    "        random_test_features, random_test_labels = tuple(zip(*random.sample(list(zip(test_features, test_labels)), n_samples)))\n",
    "        random_test_predictions = sess.run(\n",
    "            tf.nn.top_k(tf.nn.softmax(loaded_logits), top_n_predictions),\n",
    "            feed_dict={loaded_x: random_test_features, loaded_y: random_test_labels, loaded_keep_prob: 1.0})\n",
    "        helper.display_image_predictions(random_test_features, random_test_labels, random_test_predictions)\n",
    "\n",
    "\n",
    "test_model()"
   ]
  },
  {
   "cell_type": "markdown",
   "metadata": {
    "deletable": true,
    "editable": true
   },
   "source": [
    "## Why 50-70% Accuracy?\n",
    "You might be wondering why you can't get an accuracy any higher. First things first, 50% isn't bad for a simple CNN.  Pure guessing would get you 10% accuracy. However, you might notice people are getting scores [well above 70%](http://rodrigob.github.io/are_we_there_yet/build/classification_datasets_results.html#43494641522d3130).  That's because we haven't taught you all there is to know about neural networks. We still need to cover a few more techniques.\n",
    "## Submitting This Project\n",
    "When submitting this project, make sure to run all the cells before saving the notebook.  Save the notebook file as \"dlnd_image_classification.ipynb\" and save it as a HTML file under \"File\" -> \"Download as\".  Include the \"helper.py\" and \"problem_unittests.py\" files in your submission."
   ]
  }
 ],
 "metadata": {
  "kernelspec": {
   "display_name": "Python 3",
   "language": "python",
   "name": "python3"
  },
  "language_info": {
   "codemirror_mode": {
    "name": "ipython",
    "version": 3
   },
   "file_extension": ".py",
   "mimetype": "text/x-python",
   "name": "python",
   "nbconvert_exporter": "python",
   "pygments_lexer": "ipython3",
   "version": "3.5.2"
  },
  "widgets": {
   "state": {},
   "version": "1.1.2"
  }
 },
 "nbformat": 4,
 "nbformat_minor": 0
}
