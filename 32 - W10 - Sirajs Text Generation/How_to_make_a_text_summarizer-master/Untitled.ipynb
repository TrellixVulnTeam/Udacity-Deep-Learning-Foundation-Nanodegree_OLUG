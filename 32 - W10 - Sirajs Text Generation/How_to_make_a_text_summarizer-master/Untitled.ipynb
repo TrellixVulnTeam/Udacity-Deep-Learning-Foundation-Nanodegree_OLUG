{
 "cells": [
  {
   "cell_type": "code",
   "execution_count": 3,
   "metadata": {
    "collapsed": false
   },
   "outputs": [
    {
     "name": "stdout",
     "output_type": "stream",
     "text": [
      "<class 'numpy.ndarray'> 4 [ 0.1   0.8   0.05  0.05]\n"
     ]
    }
   ],
   "source": [
    "import numpy as np\n",
    "probabilities = np.array([ 0.1,   0.8,   0.05,  0.05])\n",
    "print(type(probabilities),len(probabilities),probabilities)"
   ]
  },
  {
   "cell_type": "code",
   "execution_count": 12,
   "metadata": {
    "collapsed": false
   },
   "outputs": [
    {
     "name": "stdout",
     "output_type": "stream",
     "text": [
      "<class 'dict'> 4 {0: 'this', 1: 'is', 2: 'a', 3: 'test'}\n",
      "a\n"
     ]
    }
   ],
   "source": [
    "int_to_vocab = {0: 'this', 1: 'is', 2: 'a', 3: 'test'}\n",
    "print(type(int_to_vocab),len(int_to_vocab),int_to_vocab)\n",
    "print(int_to_vocab[2])"
   ]
  },
  {
   "cell_type": "code",
   "execution_count": 6,
   "metadata": {
    "collapsed": false
   },
   "outputs": [
    {
     "name": "stdout",
     "output_type": "stream",
     "text": [
      "<class 'numpy.ndarray'> 4 [ 0.1   0.9   0.95  1.  ]\n"
     ]
    }
   ],
   "source": [
    "cum_prob = np.cumsum(probabilities)\n",
    "print(type(cum_prob),len(cum_prob),cum_prob)"
   ]
  },
  {
   "cell_type": "code",
   "execution_count": 22,
   "metadata": {
    "collapsed": false
   },
   "outputs": [
    {
     "name": "stdout",
     "output_type": "stream",
     "text": [
      "[0, 1, 2, 3, 4, 5, 6, 7, 8, 9, 10, 11, 12, 13, 14, 15, 16, 17, 18, 19, 20, 21, 22, 23, 24, 25, 26, 27, 28, 29, 30, 31, 32, 33, 34, 35, 36, 37, 38, 39, 40, 41, 42, 43, 44, 45, 46, 47, 48, 49, 50, 51, 52, 53, 54, 55, 56, 57, 58, 59, 60, 61, 62, 63, 64, 65, 66, 67, 68, 69, 70, 71, 72, 73, 74, 75, 76, 77, 78, 79, 80, 81, 82, 83, 84, 85, 86, 87, 88, 89, 90, 91, 92, 93, 94, 95, 96, 97, 98, 99] 49\n"
     ]
    }
   ],
   "source": [
    "# Scratch work to investigate sorting of 100 numbers, then finding the 50th value.\n",
    "# Adapting code from http://stackoverflow.com/questions/16655089/python-random-numbers-into-a-list\n",
    "import random\n",
    "my_randoms = [random.random() for _ in range (100)]\n",
    "#my_randoms = [i for i in range (100)]\n",
    "my_randoms = sorted(my_randoms)\n",
    "print(my_randoms,my_randoms[49])"
   ]
  },
  {
   "cell_type": "code",
   "execution_count": 11,
   "metadata": {
    "collapsed": false
   },
   "outputs": [
    {
     "name": "stdout",
     "output_type": "stream",
     "text": [
      "[(0.10000000000000001, 0), (0.80000000000000004, 1), (0.050000000000000003, 2), (0.050000000000000003, 3)]\n"
     ]
    }
   ],
   "source": [
    "# I read somewhere (maybe in the Slack channel) that one of Mat's strategies\n",
    "# was to constrain the selection of words to the top 50, so that results\n",
    "# made a little more sense. The unit test for this function uses a dictionary\n",
    "# of length only 4. In order to implement Mat's strategy and accomodate the\n",
    "# unit test, constrain the dictionary to the top N words, where N is the\n",
    "# minimum between 50 and len(int_to_vocab).\n",
    "# Obtain the minimum between the length of the probabilities/dictionary\n",
    "# and 50.\n",
    "N = min((50,len(int_to_vocab)))\n",
    "\n",
    "# Constrain both the probabilities and the dictionary to length N.\n",
    "# (We are assuming that they are of the same length to begin with.\n",
    "# We could insert checks to confirm this.)\n",
    "prob_i2v = list(zip(probabilities,int_to_vocab))\n"
   ]
  },
  {
   "cell_type": "markdown",
   "metadata": {},
   "source": [
    "I have found code to perform sampling in the **Anna KaRNNa** notebook. In that notebook, see the function **pick_top_n()**.\n",
    "That code implements exactly what I want to do.\n",
    "So, I will just adapt that code for sampling in Project 3, rather than making a much cruder re-invention of the wheel."
   ]
  }
 ],
 "metadata": {
  "kernelspec": {
   "display_name": "Python 3",
   "language": "python",
   "name": "python3"
  },
  "language_info": {
   "codemirror_mode": {
    "name": "ipython",
    "version": 3
   },
   "file_extension": ".py",
   "mimetype": "text/x-python",
   "name": "python",
   "nbconvert_exporter": "python",
   "pygments_lexer": "ipython3",
   "version": "3.6.0"
  }
 },
 "nbformat": 4,
 "nbformat_minor": 2
}
