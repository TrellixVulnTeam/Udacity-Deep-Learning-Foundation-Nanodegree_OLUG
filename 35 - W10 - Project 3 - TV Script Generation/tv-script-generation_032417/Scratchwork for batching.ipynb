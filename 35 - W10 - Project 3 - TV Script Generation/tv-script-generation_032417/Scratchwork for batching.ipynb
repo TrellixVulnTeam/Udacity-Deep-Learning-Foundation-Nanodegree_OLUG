{
 "cells": [
  {
   "cell_type": "code",
   "execution_count": 14,
   "metadata": {
    "collapsed": false
   },
   "outputs": [
    {
     "name": "stdout",
     "output_type": "stream",
     "text": [
      "[1, 2, 3, 4, 5, 6, 7, 8, 9, 10, 11, 12, 13, 14, 15]\n",
      "15\n"
     ]
    }
   ],
   "source": [
    "int_text = [1, 2, 3, 4, 5, 6, 7, 8, 9, 10, 11, 12, 13, 14, 15]\n",
    "print(int_text)\n",
    "print(len(int_text))"
   ]
  },
  {
   "cell_type": "code",
   "execution_count": 22,
   "metadata": {
    "collapsed": false
   },
   "outputs": [
    {
     "name": "stdout",
     "output_type": "stream",
     "text": [
      "833\n"
     ]
    }
   ],
   "source": [
    "batch_size = 2\n",
    "seq_length = 3\n",
    "\n",
    "# Compute number of batches.\n",
    "n_batches = len(int_text)//(batch_size*seq_length)\n",
    "print(n_batches)"
   ]
  },
  {
   "cell_type": "code",
   "execution_count": 23,
   "metadata": {
    "collapsed": false
   },
   "outputs": [
    {
     "name": "stdout",
     "output_type": "stream",
     "text": [
      "5000\n"
     ]
    }
   ],
   "source": [
    "int_text = range(5000)\n",
    "print(len(int_text))"
   ]
  },
  {
   "cell_type": "code",
   "execution_count": 24,
   "metadata": {
    "collapsed": false
   },
   "outputs": [
    {
     "name": "stdout",
     "output_type": "stream",
     "text": [
      "7\n"
     ]
    }
   ],
   "source": [
    "batch_size = 128\n",
    "seq_length = 5\n",
    "\n",
    "# Compute number of batches.\n",
    "n_batches = len(int_text)//(batch_size*seq_length)\n",
    "print(n_batches)"
   ]
  },
  {
   "cell_type": "code",
   "execution_count": 25,
   "metadata": {
    "collapsed": false
   },
   "outputs": [
    {
     "name": "stdout",
     "output_type": "stream",
     "text": [
      "7\n"
     ]
    }
   ],
   "source": [
    "# The target is lagged by an offset of 1. So, if\n",
    "# len(int_text) = n_batches*batch_size*seq_length,\n",
    "# we won't have enough data for the last target!\n",
    "# We want only full batches. So, if\n",
    "# len(int_text) = n_batches*batch_size*seq_length,\n",
    "# DECREMENT n_batches by 1.\n",
    "if len(int_text) == n_batches*batch_size*seq_length:\n",
    "    n_batches -= 1\n",
    "print(n_batches)"
   ]
  },
  {
   "cell_type": "code",
   "execution_count": 27,
   "metadata": {
    "collapsed": false
   },
   "outputs": [
    {
     "name": "stdout",
     "output_type": "stream",
     "text": [
      "0\n",
      "1\n",
      "2\n",
      "3\n",
      "4\n",
      "5\n",
      "6\n",
      "[[[[   0.    1.    2.    3.    4.]\n",
      "   [   5.    6.    7.    8.    9.]\n",
      "   [  10.   11.   12.   13.   14.]\n",
      "   ..., \n",
      "   [ 625.  626.  627.  628.  629.]\n",
      "   [ 630.  631.  632.  633.  634.]\n",
      "   [ 635.  636.  637.  638.  639.]]\n",
      "\n",
      "  [[   1.    2.    3.    4.    5.]\n",
      "   [   6.    7.    8.    9.   10.]\n",
      "   [  11.   12.   13.   14.   15.]\n",
      "   ..., \n",
      "   [ 626.  627.  628.  629.  630.]\n",
      "   [ 631.  632.  633.  634.  635.]\n",
      "   [ 636.  637.  638.  639.  640.]]]\n",
      "\n",
      "\n",
      " [[[   5.    6.    7.    8.    9.]\n",
      "   [  10.   11.   12.   13.   14.]\n",
      "   [  15.   16.   17.   18.   19.]\n",
      "   ..., \n",
      "   [ 630.  631.  632.  633.  634.]\n",
      "   [ 635.  636.  637.  638.  639.]\n",
      "   [ 640.  641.  642.  643.  644.]]\n",
      "\n",
      "  [[   6.    7.    8.    9.   10.]\n",
      "   [  11.   12.   13.   14.   15.]\n",
      "   [  16.   17.   18.   19.   20.]\n",
      "   ..., \n",
      "   [ 631.  632.  633.  634.  635.]\n",
      "   [ 636.  637.  638.  639.  640.]\n",
      "   [ 641.  642.  643.  644.  645.]]]\n",
      "\n",
      "\n",
      " [[[  10.   11.   12.   13.   14.]\n",
      "   [  15.   16.   17.   18.   19.]\n",
      "   [  20.   21.   22.   23.   24.]\n",
      "   ..., \n",
      "   [ 635.  636.  637.  638.  639.]\n",
      "   [ 640.  641.  642.  643.  644.]\n",
      "   [ 645.  646.  647.  648.  649.]]\n",
      "\n",
      "  [[  11.   12.   13.   14.   15.]\n",
      "   [  16.   17.   18.   19.   20.]\n",
      "   [  21.   22.   23.   24.   25.]\n",
      "   ..., \n",
      "   [ 636.  637.  638.  639.  640.]\n",
      "   [ 641.  642.  643.  644.  645.]\n",
      "   [ 646.  647.  648.  649.  650.]]]\n",
      "\n",
      "\n",
      " ..., \n",
      " [[[  20.   21.   22.   23.   24.]\n",
      "   [  25.   26.   27.   28.   29.]\n",
      "   [  30.   31.   32.   33.   34.]\n",
      "   ..., \n",
      "   [ 645.  646.  647.  648.  649.]\n",
      "   [ 650.  651.  652.  653.  654.]\n",
      "   [ 655.  656.  657.  658.  659.]]\n",
      "\n",
      "  [[  21.   22.   23.   24.   25.]\n",
      "   [  26.   27.   28.   29.   30.]\n",
      "   [  31.   32.   33.   34.   35.]\n",
      "   ..., \n",
      "   [ 646.  647.  648.  649.  650.]\n",
      "   [ 651.  652.  653.  654.  655.]\n",
      "   [ 656.  657.  658.  659.  660.]]]\n",
      "\n",
      "\n",
      " [[[  25.   26.   27.   28.   29.]\n",
      "   [  30.   31.   32.   33.   34.]\n",
      "   [  35.   36.   37.   38.   39.]\n",
      "   ..., \n",
      "   [ 650.  651.  652.  653.  654.]\n",
      "   [ 655.  656.  657.  658.  659.]\n",
      "   [ 660.  661.  662.  663.  664.]]\n",
      "\n",
      "  [[  26.   27.   28.   29.   30.]\n",
      "   [  31.   32.   33.   34.   35.]\n",
      "   [  36.   37.   38.   39.   40.]\n",
      "   ..., \n",
      "   [ 651.  652.  653.  654.  655.]\n",
      "   [ 656.  657.  658.  659.  660.]\n",
      "   [ 661.  662.  663.  664.  665.]]]\n",
      "\n",
      "\n",
      " [[[  30.   31.   32.   33.   34.]\n",
      "   [  35.   36.   37.   38.   39.]\n",
      "   [  40.   41.   42.   43.   44.]\n",
      "   ..., \n",
      "   [ 655.  656.  657.  658.  659.]\n",
      "   [ 660.  661.  662.  663.  664.]\n",
      "   [ 665.  666.  667.  668.  669.]]\n",
      "\n",
      "  [[  31.   32.   33.   34.   35.]\n",
      "   [  36.   37.   38.   39.   40.]\n",
      "   [  41.   42.   43.   44.   45.]\n",
      "   ..., \n",
      "   [ 656.  657.  658.  659.  660.]\n",
      "   [ 661.  662.  663.  664.  665.]\n",
      "   [ 666.  667.  668.  669.  670.]]]]\n"
     ]
    }
   ],
   "source": [
    "import numpy as np\n",
    "\n",
    "# Loop over BATCHES.\n",
    "batches = np.ndarray((n_batches,2,batch_size,seq_length)) # Initialize output numpy ndarray.\n",
    "for batch_num in range(n_batches):\n",
    "    print(batch_num)\n",
    "    input_seq  = [] # Initialize list of input  sequences within batch.\n",
    "    target_seq = [] # Initialize list of target sequences within batch.\n",
    "    # Loop over SEQUENCES within batch.\n",
    "    for seq_num in range(batch_size):\n",
    "        # Grab the next input and target sequences.\n",
    "        idx1 = (batch_num*seq_length) + (seq_num*seq_length)\n",
    "        idx2 = idx1 + seq_length\n",
    "        idy1 = idx1 + 1\n",
    "        idy2 = idy1 + seq_length\n",
    "        batches[batch_num,0,seq_num,] = int_text[idx1:idx2]\n",
    "        batches[batch_num,1,seq_num,] = int_text[idy1:idy2]\n",
    "print(batches)"
   ]
  }
 ],
 "metadata": {
  "kernelspec": {
   "display_name": "Python 3",
   "language": "python",
   "name": "python3"
  },
  "language_info": {
   "codemirror_mode": {
    "name": "ipython",
    "version": 3
   },
   "file_extension": ".py",
   "mimetype": "text/x-python",
   "name": "python",
   "nbconvert_exporter": "python",
   "pygments_lexer": "ipython3",
   "version": "3.6.0"
  }
 },
 "nbformat": 4,
 "nbformat_minor": 2
}
